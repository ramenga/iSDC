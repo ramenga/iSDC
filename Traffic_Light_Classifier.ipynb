{
 "cells": [
  {
   "cell_type": "markdown",
   "metadata": {},
   "source": [
    "# Traffic Light Classifier\n",
    "---\n",
    "\n",
    "In this project, you’ll use your knowledge of computer vision techniques to build a classifier for images of traffic lights! You'll be given a dataset of traffic light images in which one of three lights is illuminated: red, yellow, or green.\n",
    "\n",
    "In this notebook, you'll pre-process these images, extract features that will help us distinguish the different types of images, and use those features to classify the traffic light images into three classes: red, yellow, or green. The tasks will be broken down into a few sections:\n",
    "\n",
    "1. **Loading and visualizing the data**. \n",
    "      The first step in any classification task is to be familiar with your data; you'll need to load in the images of traffic lights and visualize them!\n",
    "\n",
    "2. **Pre-processing**. \n",
    "    The input images and output labels need to be standardized. This way, you can analyze all the input images using the same classification pipeline, and you know what output to expect when you eventually classify a *new* image.\n",
    "    \n",
    "3. **Feature extraction**. \n",
    "    Next, you'll extract some features from each image that will help distinguish and eventually classify these images.\n",
    "   \n",
    "4. **Classification and visualizing error**. \n",
    "    Finally, you'll write one function that uses your features to classify *any* traffic light image. This function will take in an image and output a label. You'll also be given code to determine the accuracy of your classification model.    \n",
    "    \n",
    "5. **Evaluate your model**.\n",
    "    To pass this project, your classifier must be >90% accurate and never classify any red lights as green; it's likely that you'll need to improve the accuracy of your classifier by changing existing features or adding new features. I'd also encourage you to try to get as close to 100% accuracy as possible!\n",
    "    \n",
    "Here are some sample images from the dataset (from left to right: red, green, and yellow traffic lights):\n",
    "<img src=\"images/all_lights.png\" width=\"50%\" height=\"50%\">\n"
   ]
  },
  {
   "cell_type": "markdown",
   "metadata": {},
   "source": [
    "---\n",
    "### *Here's what you need to know to complete the project:*\n",
    "\n",
    "Some template code has already been provided for you, but you'll need to implement additional code steps to successfully complete this project. Any code that is required to pass this project is marked with **'(IMPLEMENTATION)'** in the header. There are also a couple of questions about your thoughts as you work through this project, which are marked with **'(QUESTION)'** in the header. Make sure to answer all questions and to check your work against the [project rubric](https://review.udacity.com/#!/rubrics/1213/view) to make sure you complete the necessary classification steps!\n",
    "\n",
    "Your project submission will be evaluated based on the code implementations you provide, and on two main classification criteria.\n",
    "Your complete traffic light classifier should have:\n",
    "1. **Greater than 90% accuracy**\n",
    "2. ***Never* classify red lights as green**\n"
   ]
  },
  {
   "cell_type": "markdown",
   "metadata": {},
   "source": [
    "# 1. Loading and Visualizing the Traffic Light Dataset\n",
    "\n",
    "This traffic light dataset consists of 1484 number of color images in 3 categories - red, yellow, and green. As with most human-sourced data, the data is not evenly distributed among the types. There are:\n",
    "* 904 red traffic light images\n",
    "* 536 green traffic light images\n",
    "* 44 yellow traffic light images\n",
    "\n",
    "*Note: All images come from this [MIT self-driving car course](https://selfdrivingcars.mit.edu/) and are licensed under a [Creative Commons Attribution-ShareAlike 4.0 International License](https://creativecommons.org/licenses/by-sa/4.0/).*"
   ]
  },
  {
   "cell_type": "markdown",
   "metadata": {},
   "source": [
    "### Import resources\n",
    "\n",
    "Before you get started on the project code, import the libraries and resources that you'll need."
   ]
  },
  {
   "cell_type": "code",
   "execution_count": 1,
   "metadata": {},
   "outputs": [],
   "source": [
    "import cv2 # computer vision library\n",
    "import helpers # helper functions\n",
    "\n",
    "import random\n",
    "import numpy as np\n",
    "import matplotlib.pyplot as plt\n",
    "import matplotlib.image as mpimg # for loading in images\n",
    "\n",
    "%matplotlib inline"
   ]
  },
  {
   "cell_type": "markdown",
   "metadata": {},
   "source": [
    "## Training and Testing Data\n",
    "\n",
    "All 1484 of the traffic light images are separated into training and testing datasets. \n",
    "\n",
    "* 80% of these images are training images, for you to use as you create a classifier.\n",
    "* 20% are test images, which will be used to test the accuracy of your classifier.\n",
    "* All images are pictures of 3-light traffic lights with one light illuminated.\n",
    "\n",
    "## Define the image directories\n",
    "\n",
    "First, we set some variables to keep track of some where our images are stored:\n",
    "\n",
    "    IMAGE_DIR_TRAINING: the directory where our training image data is stored\n",
    "    IMAGE_DIR_TEST: the directory where our test image data is stored"
   ]
  },
  {
   "cell_type": "code",
   "execution_count": 2,
   "metadata": {},
   "outputs": [],
   "source": [
    "# Image data directories\n",
    "IMAGE_DIR_TRAINING = \"traffic_light_images/training/\"\n",
    "IMAGE_DIR_TEST = \"traffic_light_images/test/\""
   ]
  },
  {
   "cell_type": "markdown",
   "metadata": {},
   "source": [
    "## Load the datasets\n",
    "\n",
    "These first few lines of code will load the training traffic light images and store all of them in a variable, `IMAGE_LIST`. This list contains the images and their associated label (\"red\", \"yellow\", \"green\"). \n",
    "\n",
    "You are encouraged to take a look at the `load_dataset` function in the helpers.py file. This will give you a good idea about how lots of image files can be read in from a directory using the [glob library](https://pymotw.com/2/glob/). The `load_dataset` function takes in the name of an image directory and returns a list of images and their associated labels. \n",
    "\n",
    "For example, the first image-label pair in `IMAGE_LIST` can be accessed by index: \n",
    "``` IMAGE_LIST[0][:]```.\n"
   ]
  },
  {
   "cell_type": "code",
   "execution_count": 3,
   "metadata": {},
   "outputs": [],
   "source": [
    "# Using the load_dataset function in helpers.py\n",
    "# Load training data\n",
    "IMAGE_LIST = helpers.load_dataset(IMAGE_DIR_TRAINING)\n"
   ]
  },
  {
   "cell_type": "markdown",
   "metadata": {},
   "source": [
    "## Visualize the Data\n",
    "\n",
    "The first steps in analyzing any dataset are to 1. load the data and 2. look at the data. Seeing what it looks like will give you an idea of what to look for in the images, what kind of noise or inconsistencies you have to deal with, and so on. This will help you understand the image dataset, and **understanding a dataset is part of making predictions about the data**."
   ]
  },
  {
   "cell_type": "markdown",
   "metadata": {},
   "source": [
    "---\n",
    "### Visualize the input images\n",
    "\n",
    "Visualize and explore the image data! Write code to display an image in `IMAGE_LIST`:\n",
    "* Display the image\n",
    "* Print out the shape of the image \n",
    "* Print out its corresponding label\n",
    "\n",
    "See if you can display at least one of each type of traffic light image – red, green, and yellow — and look at their similarities and differences."
   ]
  },
  {
   "cell_type": "code",
   "execution_count": 4,
   "metadata": {},
   "outputs": [
    {
     "name": "stdout",
     "output_type": "stream",
     "text": [
      "Label:red\n",
      "Image shape:(47, 21, 3)\n"
     ]
    },
    {
     "data": {
      "image/png": "[encoded data removed]",
      "text/plain": [
       "<matplotlib.figure.Figure at 0x7fe53e40b6d8>"
      ]
     },
     "metadata": {},
     "output_type": "display_data"
    }
   ],
   "source": [
    "## TODO: Write code to display an image in IMAGE_LIST (try finding a yellow traffic light!)\n",
    "index = 21\n",
    "## TODO: Print out 1. The shape of the image and 2. The image's label\n",
    "label = IMAGE_LIST[index][1]\n",
    "# The first image in IMAGE_LIST is displayed below (without information about shape or label)\n",
    "selected_image = IMAGE_LIST[index][0]\n",
    "plt.imshow(selected_image)\n",
    "print(\"Label:\"+str(label))\n",
    "print(\"Image shape:\"+str(selected_image.shape))"
   ]
  },
  {
   "cell_type": "markdown",
   "metadata": {},
   "source": [
    "# 2. Pre-process the Data\n",
    "\n",
    "After loading in each image, you have to standardize the input and output!\n",
    "\n",
    "### Input\n",
    "\n",
    "This means that every input image should be in the same format, of the same size, and so on. We'll be creating features by performing the same analysis on every picture, and for a classification task like this, it's important that **similar images create similar features**! \n",
    "\n",
    "### Output\n",
    "\n",
    "We also need the output to be a label that is easy to read and easy to compare with other labels. It is good practice to convert categorical data like \"red\" and \"green\" to numerical data.\n",
    "\n",
    "A very common classification output is a 1D list that is the length of the number of classes - three in the case of red, yellow, and green lights - with the values 0 or 1 indicating which class a certain image is. For example, since we have three classes (red, yellow, and green), we can make a list with the order: [red value, yellow value, green value]. In general, order does not matter, we choose the order [red value, yellow value, green value] in this case to reflect the position of each light in descending vertical order.\n",
    "\n",
    "A red light should have the  label: [1, 0, 0]. Yellow should be: [0, 1, 0]. Green should be: [0, 0, 1]. These labels are called **one-hot encoded labels**.\n",
    "\n",
    "*(Note: one-hot encoding will be especially important when you work with [machine learning algorithms](https://machinelearningmastery.com/how-to-one-hot-encode-sequence-data-in-python/)).*\n",
    "\n",
    "<img src=\"images/processing_steps.png\" width=\"80%\" height=\"80%\">\n"
   ]
  },
  {
   "cell_type": "markdown",
   "metadata": {},
   "source": [
    "---\n",
    "<a id='task2'></a>\n",
    "### (IMPLEMENTATION): Standardize the input images\n",
    "\n",
    "* Resize each image to the desired input size: 32x32px.\n",
    "* (Optional) You may choose to crop, shift, or rotate the images in this step as well.\n",
    "\n",
    "It's very common to have square input sizes that can be rotated (and remain the same size), and analyzed in smaller, square patches. It's also important to make all your images the same size so that they can be sent through the same pipeline of classification steps!"
   ]
  },
  {
   "cell_type": "code",
   "execution_count": 5,
   "metadata": {},
   "outputs": [],
   "source": [
    "# This function should take in an RGB image and return a new, standardized version\n",
    "def standardize_input(image):\n",
    "    \n",
    "    ## TODO: Resize image and pre-process so that all \"standard\" images are the same size  \n",
    "    standard_im = cv2.resize(image,(32,32))\n",
    "    \n",
    "    \n",
    "    return standard_im\n",
    "    "
   ]
  },
  {
   "cell_type": "markdown",
   "metadata": {},
   "source": [
    "## Standardize the output\n",
    "\n",
    "With each loaded image, we also specify the expected output. For this, we use **one-hot encoding**.\n",
    "\n",
    "* One-hot encode the labels. To do this, create an array of zeros representing each class of traffic light (red, yellow, green), and set the index of the expected class number to 1. \n",
    "\n",
    "Since we have three classes (red, yellow, and green), we have imposed an order of: [red value, yellow value, green value]. To one-hot encode, say, a yellow light, we would first initialize an array to [0, 0, 0] and change the middle value (the yellow value) to 1: [0, 1, 0].\n"
   ]
  },
  {
   "cell_type": "markdown",
   "metadata": {},
   "source": [
    "---\n",
    "<a id='task3'></a>\n",
    "### (IMPLEMENTATION): Implement one-hot encoding"
   ]
  },
  {
   "cell_type": "code",
   "execution_count": 6,
   "metadata": {},
   "outputs": [],
   "source": [
    "## TODO: One hot encode an image label\n",
    "## Given a label - \"red\", \"green\", or \"yellow\" - return a one-hot encoded label\n",
    "\n",
    "# Examples: \n",
    "# one_hot_encode(\"red\") should return: [1, 0, 0]\n",
    "# one_hot_encode(\"yellow\") should return: [0, 1, 0]\n",
    "# one_hot_encode(\"green\") should return: [0, 0, 1]\n",
    "\n",
    "def one_hot_encode(label):\n",
    "    \n",
    "    ## TODO: Create a one-hot encoded label that works for all classes of traffic lights\n",
    "    one_hot_encoded = [] \n",
    "    if label == 'red':\n",
    "        one_hot_encoded = [1,0,0]\n",
    "    elif label == 'yellow':\n",
    "        one_hot_encoded = [0,1,0]\n",
    "    elif label == 'green':\n",
    "        one_hot_encoded = [0,0,1]\n",
    "    \n",
    "    return one_hot_encoded\n"
   ]
  },
  {
   "cell_type": "markdown",
   "metadata": {},
   "source": [
    "### Testing as you Code\n",
    "\n",
    "After programming a function like this, it's a good idea to test it, and see if it produces the expected output. **In general, it's good practice to test code in small, functional pieces, after you write it**. This way, you can make sure that your code is correct as you continue to build a classifier, and you can identify any errors early on so that they don't compound.\n",
    "\n",
    "All test code can be found in the file `test_functions.py`. You are encouraged to look through that code and add your own testing code if you find it useful!\n",
    "\n",
    "One test function you'll find is: `test_one_hot(self, one_hot_function)` which takes in one argument, a one_hot_encode function, and tests its functionality. If your one_hot_label code does not work as expected, this test will print ot an error message that will tell you a bit about why your code failed. Once your code works, this should print out TEST PASSED."
   ]
  },
  {
   "cell_type": "code",
   "execution_count": 7,
   "metadata": {},
   "outputs": [
    {
     "data": {
      "text/markdown": [
       "**<span style=\"color: green;\">TEST PASSED</span>**"
      ],
      "text/plain": [
       "<IPython.core.display.Markdown object>"
      ]
     },
     "metadata": {},
     "output_type": "display_data"
    }
   ],
   "source": [
    "# Importing the tests\n",
    "import test_functions\n",
    "tests = test_functions.Tests()\n",
    "\n",
    "# Test for one_hot_encode function\n",
    "tests.test_one_hot(one_hot_encode)\n"
   ]
  },
  {
   "cell_type": "markdown",
   "metadata": {},
   "source": [
    "## Construct a `STANDARDIZED_LIST` of input images and output labels.\n",
    "\n",
    "This function takes in a list of image-label pairs and outputs a **standardized** list of resized images and one-hot encoded labels.\n",
    "\n",
    "This uses the functions you defined above to standardize the input and output, so those functions must be complete for this standardization to work!\n"
   ]
  },
  {
   "cell_type": "code",
   "execution_count": 187,
   "metadata": {},
   "outputs": [],
   "source": [
    "def standardize(image_list):\n",
    "    \n",
    "    # Empty image data array\n",
    "    standard_list = []\n",
    "\n",
    "    # Iterate through all the image-label pairs\n",
    "    for item in image_list:\n",
    "        image = item[0]\n",
    "        label = item[1]\n",
    "\n",
    "        # Standardize the image\n",
    "        standardized_im = standardize_input(image)\n",
    "\n",
    "        # One-hot encode the label\n",
    "        one_hot_label = one_hot_encode(label)    \n",
    "\n",
    "        # Append the image, and it's one hot encoded label to the full, processed list of image data \n",
    "        standard_list.append((standardized_im, one_hot_label))\n",
    "        \n",
    "    return standard_list\n",
    "\n",
    "# Standardize all training images\n",
    "STANDARDIZED_LIST = standardize(IMAGE_LIST)"
   ]
  },
  {
   "cell_type": "markdown",
   "metadata": {},
   "source": [
    "## Visualize the standardized data\n",
    "\n",
    "Display a standardized image from STANDARDIZED_LIST and compare it with a non-standardized image from IMAGE_LIST. Note that their sizes and appearance are different!"
   ]
  },
  {
   "cell_type": "code",
   "execution_count": 9,
   "metadata": {},
   "outputs": [
    {
     "name": "stdout",
     "output_type": "stream",
     "text": [
      "Label:[1, 0, 0]\n"
     ]
    },
    {
     "data": {
      "text/plain": [
       "<matplotlib.image.AxesImage at 0x7fe53bf99240>"
      ]
     },
     "execution_count": 9,
     "metadata": {},
     "output_type": "execute_result"
    },
    {
     "data": {
      "image/png": "[encoded data removed]",
      "text/plain": [
       "<matplotlib.figure.Figure at 0x7fe53c078f28>"
      ]
     },
     "metadata": {},
     "output_type": "display_data"
    }
   ],
   "source": [
    "## TODO: Display a standardized image and its label\n",
    "index = 5\n",
    "std_image = STANDARDIZED_LIST[index][0]\n",
    "std_label = STANDARDIZED_LIST[index][1]\n",
    "print(\"Label:\"+str(std_label))\n",
    "plt.imshow(std_image)\n"
   ]
  },
  {
   "cell_type": "markdown",
   "metadata": {},
   "source": [
    "# 3. Feature Extraction\n",
    "\n",
    "You'll be using what you know about color spaces, shape analysis, and feature construction to create features that help distinguish and classify the three types of traffic light images.\n",
    "\n",
    "You'll be tasked with creating **one feature** at a minimum (with the option to create more). The required feature is **a brightness feature using HSV color space**:\n",
    "\n",
    "1. A brightness feature.\n",
    "    - Using HSV color space, create a feature that helps you identify the 3 different classes of traffic light.\n",
    "    - You'll be asked some questions about what methods you tried to locate this traffic light, so, as you progress through this notebook, always be thinking about your approach: what works and what doesn't?\n",
    "\n",
    "2. (Optional): Create more features! \n",
    "\n",
    "Any more features that you create are up to you and should improve the accuracy of your traffic light classification algorithm! One thing to note is that, to pass this project you must **never classify a red light as a green light** because this creates a serious safety risk for a self-driving car. To avoid this misclassification, you might consider adding another feature that specifically distinguishes between red and green lights.\n",
    "\n",
    "These features will be combined near the end of his notebook to form a complete classification algorithm."
   ]
  },
  {
   "cell_type": "markdown",
   "metadata": {},
   "source": [
    "## Creating a brightness feature \n",
    "\n",
    "There are a number of ways to create a brightness feature that will help you characterize images of traffic lights, and it will be up to you to decide on the best procedure to complete this step. You should visualize and test your code as you go.\n",
    "\n",
    "Pictured below is a sample pipeline for creating a brightness feature (from left to right: standardized image, HSV color-masked image, cropped image, brightness feature):\n",
    "\n",
    "<img src=\"images/feature_ext_steps.png\" width=\"70%\" height=\"70%\">\n"
   ]
  },
  {
   "cell_type": "markdown",
   "metadata": {},
   "source": [
    "## RGB to HSV conversion\n",
    "\n",
    "Below, a test image is converted from RGB to HSV colorspace and each component is displayed in an image."
   ]
  },
  {
   "cell_type": "code",
   "execution_count": 119,
   "metadata": {},
   "outputs": [
    {
     "name": "stdout",
     "output_type": "stream",
     "text": [
      "Label [red, yellow, green]: [0, 0, 1]\n"
     ]
    },
    {
     "data": {
      "text/plain": [
       "<matplotlib.image.AxesImage at 0x7fe53b3bf6d8>"
      ]
     },
     "execution_count": 119,
     "metadata": {},
     "output_type": "execute_result"
    },
    {
     "data": {
      "image/png": "[encoded data removed]",
      "text/plain": [
       "<matplotlib.figure.Figure at 0x7fe53aede710>"
      ]
     },
     "metadata": {},
     "output_type": "display_data"
    }
   ],
   "source": [
    "# Convert and image to HSV colorspace\n",
    "# Visualize the individual color channels\n",
    "\n",
    "image_num = 1000\n",
    "test_im = STANDARDIZED_LIST[image_num][0]\n",
    "test_label = STANDARDIZED_LIST[image_num][1]\n",
    "\n",
    "# Convert to HSV\n",
    "hsv = cv2.cvtColor(test_im, cv2.COLOR_RGB2HSV)\n",
    "\n",
    "# Print image label\n",
    "print('Label [red, yellow, green]: ' + str(test_label))\n",
    "\n",
    "# HSV channels\n",
    "h = hsv[:,:,0]\n",
    "s = hsv[:,:,1]\n",
    "v = hsv[:,:,2]\n",
    "\n",
    "# Plot the original image and the three channels\n",
    "f, (ax1, ax2, ax3, ax4) = plt.subplots(1, 4, figsize=(20,10))\n",
    "ax1.set_title('Standardized image')\n",
    "ax1.imshow(test_im)\n",
    "ax2.set_title('H channel')\n",
    "ax2.imshow(h, cmap='gray')\n",
    "ax3.set_title('S channel')\n",
    "ax3.imshow(s, cmap='gray')\n",
    "ax4.set_title('V channel')\n",
    "ax4.imshow(v, cmap='gray')\n",
    "#for i in range(len(STANDARDIZED_LIST)):\n",
    "#    print(i,STANDARDIZED_LIST[i][1])\n"
   ]
  },
  {
   "cell_type": "markdown",
   "metadata": {},
   "source": [
    "---\n",
    "<a id='task7'></a>\n",
    "### (IMPLEMENTATION): Create a brightness feature that uses HSV color space\n",
    "\n",
    "Write a function that takes in an RGB image and returns a 1D feature vector and/or single value that will help classify an image of a traffic light. The only requirement is that this function should apply an HSV colorspace transformation, the rest is up to you. \n",
    "\n",
    "From this feature, you should be able to estimate an image's label and classify it as either a red, green, or yellow traffic light. You may also define helper functions if they simplify your code."
   ]
  },
  {
   "cell_type": "code",
   "execution_count": 185,
   "metadata": {},
   "outputs": [
    {
     "data": {
      "text/plain": [
       "[0.0,\n",
       " 0.0,\n",
       " 0.0,\n",
       " 0.0,\n",
       " 0.0,\n",
       " 0.11972437553832903,\n",
       " 0.0,\n",
       " 0.0,\n",
       " 0.34567901234567899,\n",
       " 0.29141544645420614,\n",
       " 0.37266724088429515,\n",
       " 0.64685615848406541,\n",
       " 1.0,\n",
       " 0.94774619580821129,\n",
       " 0.72236577662934254,\n",
       " 0.53919035314384156,\n",
       " 0.10077519379844961,\n",
       " 0.0,\n",
       " 0.0,\n",
       " 0.0,\n",
       " 0.0,\n",
       " 0.0,\n",
       " 0.0,\n",
       " 0.0,\n",
       " 0.0,\n",
       " 0.0,\n",
       " 0.0,\n",
       " 0.0,\n",
       " 0.0,\n",
       " 0.0,\n",
       " 0.0,\n",
       " 0.0]"
      ]
     },
     "execution_count": 185,
     "metadata": {},
     "output_type": "execute_result"
    }
   ],
   "source": [
    "## TODO: Create a brightness feature that takes in an RGB image and outputs a feature vector and/or value\n",
    "## This feature should use HSV colorspace values\n",
    "\n",
    "def create_feature(rgb_image):\n",
    "    \n",
    "    ## TODO: Convert image to HSV color space\n",
    "    hsv = cv2.cvtColor(rgb_image,cv2.COLOR_RGB2HSV)\n",
    "    ## TODO: Create and return a feature value and/or vector\n",
    "    \n",
    "    #mask for v-component\n",
    "    lower_black = np.array([0,0,0]) \n",
    "    upper_black = np.array([255,255,135])\n",
    "    mask_v = cv2.inRange(hsv, lower_black, upper_black)\n",
    "    \n",
    "    #mask for saturation component\n",
    "    lower_sat = np.array([0,0,0]) \n",
    "    upper_sat = np.array([255,30,255])\n",
    "    mask_s = cv2.inRange(hsv, lower_sat, upper_sat)\n",
    "    #plt.imshow(mask_v,cmap='gray')\n",
    "    #plt.imshow(hsv[:,:,0],cmap='gray')\n",
    "    feature=[]\n",
    "    \n",
    "    # mask out\n",
    "    masked_hsv = np.copy(hsv)\n",
    "    masked_hsv[mask_v != 0] = [0,0,0]\n",
    "    masked_hsv[mask_s != 0] = [0,0,0]\n",
    "    #plt.imshow(cv2.cvtColor(masked_hsv,cv2.COLOR_HSV2RGB))\n",
    "    \n",
    "    #sum horizontally\n",
    "    v = masked_hsv[:,:,2]\n",
    "    #v_sum = np.sum(v[:,:],axis = 1)\n",
    "    v_sum=[]\n",
    "    \n",
    "    for row in v:\n",
    "        sum_row = 0\n",
    "        cont_row = 0 \n",
    "        count=0\n",
    "        for j in range(len(row)):\n",
    "            sum_row+=row[j]\n",
    "            if cont_row>1 and row[j]==0:\n",
    "                cont_row = 0\n",
    "            if row[j] != 0:\n",
    "                count+=1\n",
    "                if j!=0:\n",
    "                    if row[j-1] != 0:\n",
    "                        cont_row +=1\n",
    "        if count<2 and cont_row<4: #eliminate single(or two) pixel specks from data for each row\n",
    "            sum_row=0\n",
    "        v_sum.append(sum_row)\n",
    "          \n",
    "        \n",
    "    \n",
    "    #normalize values\n",
    "    maximum = np.amax(v_sum)\n",
    "    #v_sum = np.divide(v_sum,maximum)\n",
    "    #print(\"max\",maximum)\n",
    "    zeros=0\n",
    "    toodark_thres=0.1\n",
    "    for i in range(len(v_sum)):\n",
    "        \n",
    "        if v_sum[i]!=0: #avoid dividing zero number\n",
    "            normalized = np.divide(v_sum[i],maximum)\n",
    "            feature.append(normalized)\n",
    "            if normalized < toodark_thres:\n",
    "                feature[len(feature)-1]=0.0\n",
    "        else:\n",
    "            zeros += 1\n",
    "            feature.append(0.0)\n",
    "        \n",
    "    \n",
    "    \n",
    "    \n",
    "    #check for masking anomaly\n",
    "    ###### TOO much or TOO little is masked,usually happens with the washed out images\n",
    "    many_bright = zeros<6\n",
    "    many_dark = zeros>27\n",
    "    if many_bright or many_dark:\n",
    "        #print(\"anomaly detected\")\n",
    "        #crop image to down the middle\n",
    "        hsv_crop = np.copy(hsv)\n",
    "        col_crop = 12\n",
    "        hsv_crop = hsv[1:-1,col_crop:-col_crop]\n",
    "        hsv_crop=cv2.resize(hsv_crop,(32,32))\n",
    "        #plt.imshow(cv2.cvtColor(hsv_crop,cv2.COLOR_HSV2RGB))\n",
    "        #adj = adjust_gamma(cv2.cvtColor(hsv_crop,cv2.COLOR_HSV2RGB),0.1)\n",
    "        gray = cv2.cvtColor(cv2.cvtColor(hsv_crop,cv2.COLOR_HSV2RGB), cv2.COLOR_RGB2GRAY)\n",
    "        sobel_y = np.array([[ -1, -2, -1], [ 0, 0, 0], [ 1, 2, 1]])\n",
    "        sobel_x = np.array([[-1,0,1],[-2,0,2],[-1,0,1]])\n",
    "        filtered_x  =cv2.filter2D(gray,-1,sobel_x)\n",
    "        #filtered_x  =cv2.filter2D(filtered_x,-1,sobel_y)\n",
    "        #plt.imshow(filtered_x,cmap='gray')\n",
    "        #print(filtered_x.shape)\n",
    "        rgb_img = cv2.cvtColor(filtered_x,cv2.COLOR_GRAY2RGB)\n",
    "        mask = cv2.inRange(rgb_img,np.array([0,0,0]),np.array([10,10,10]))\n",
    "        masked_rgb=np.copy(rgb_image)\n",
    "        masked_rgb[mask!=0]=[0,0,0]\n",
    "        masked_hsv = cv2.cvtColor(masked_rgb,cv2.COLOR_RGB2HSV)\n",
    "        #plt.imshow(masked_hsv)\n",
    "        \n",
    "        #sum horizontally\n",
    "        v = masked_hsv[:,:,2]\n",
    "        #v_sum = np.sum(v[:,:],axis = 1)\n",
    "        v_sum=[]\n",
    "    \n",
    "        for row in v:\n",
    "            sum_row = 0\n",
    "            cont_row = 0 \n",
    "            count=0\n",
    "            for j in range(len(row)):\n",
    "                sum_row+=row[j]\n",
    "                if cont_row>1 and row[j]==0:\n",
    "                    cont_row = 0\n",
    "                if row[j] != 0:\n",
    "                    count+=1\n",
    "                    if j!=0:\n",
    "                        if row[j-1] != 0:\n",
    "                            cont_row +=1\n",
    "            if count<2 and cont_row<4: #eliminate single(or two) pixel specks from data for each row\n",
    "                sum_row=0\n",
    "            v_sum.append(sum_row)\n",
    "            \n",
    "        #normalize values\n",
    "        maximum = np.amax(v_sum)\n",
    "        #v_sum = np.divide(v_sum,maximum)\n",
    "        #print(\"max\",maximum)\n",
    "        zeros=0\n",
    "        toodark_thres=0.1\n",
    "        feature=[]\n",
    "        for i in range(len(v_sum)):\n",
    "            #print(v_sum[i])\n",
    "            if v_sum[i]!=0: #avoid dividing zero number\n",
    "                normalized = np.divide(v_sum[i],maximum)\n",
    "                feature.append(normalized)\n",
    "                if normalized < toodark_thres:\n",
    "                    feature[len(feature)-1]=0.0\n",
    "            else:\n",
    "                zeros += 1\n",
    "                feature.append(0.0)\n",
    "                \n",
    "        many_bright = zeros<6\n",
    "        many_dark = zeros>27\n",
    "        if many_bright or many_dark:\n",
    "            #print(\"anomaly 2 detected\")\n",
    "            gray = cv2.cvtColor(cv2.cvtColor(hsv_crop,cv2.COLOR_HSV2RGB), cv2.COLOR_RGB2GRAY)\n",
    "            filtered_y  =cv2.filter2D(gray,-1,sobel_y)\n",
    "            filtered_y  =cv2.filter2D(filtered_y,-1,sobel_y)\n",
    "            #plt.imshow(filtered_y,cmap='gray')\n",
    "            rgb_img = cv2.cvtColor(filtered_y,cv2.COLOR_GRAY2RGB)\n",
    "            hsv_Img = cv2.cvtColor(rgb_img,cv2.COLOR_RGB2HSV)\n",
    "            mask = cv2.inRange(rgb_img,np.array([0,0,0]),np.array([255,255,150]))\n",
    "            masked_rgb=np.copy(rgb_image)\n",
    "            masked_rgb[mask!=0]=[0,0,0]\n",
    "            masked_hsv = cv2.cvtColor(masked_rgb,cv2.COLOR_RGB2HSV)\n",
    "            #plt.imshow(masked_rgb)\n",
    "            #sum horizontally\n",
    "            v = masked_hsv[:,:,2]\n",
    "            #v_sum = np.sum(v[:,:],axis = 1)\n",
    "            v_sum=[]\n",
    "    \n",
    "            for row in v:\n",
    "                sum_row = 0\n",
    "                cont_row = 0 \n",
    "                count=0\n",
    "                for j in range(len(row)):\n",
    "                    sum_row+=row[j]\n",
    "                    if cont_row>1 and row[j]==0:\n",
    "                        cont_row = 0\n",
    "                    if row[j] != 0:\n",
    "                        count+=1\n",
    "                        if j!=0:\n",
    "                            if row[j-1] != 0:\n",
    "                                cont_row +=1\n",
    "                if count<2 and cont_row<4: #eliminate single(or two) pixel specks from data for each row\n",
    "                    sum_row=0\n",
    "                v_sum.append(sum_row)\n",
    "            \n",
    "            \n",
    "            maximum = np.amax(v_sum)\n",
    "            zeros=0\n",
    "            toodark_thres=0.1\n",
    "            feature=[]\n",
    "            for i in range(len(v_sum)):\n",
    "                #print(v_sum[i])\n",
    "                if v_sum[i]!=0: #avoid dividing zero number\n",
    "                    normalized = np.divide(v_sum[i],maximum)\n",
    "                    feature.append(normalized)\n",
    "                    if normalized < toodark_thres:\n",
    "                        feature[len(feature)-1]=0.0\n",
    "                else:\n",
    "                    zeros += 1\n",
    "                    feature.append(0.0)\n",
    "                    \n",
    "                    \n",
    "    return feature\n",
    "    \n",
    "    \n",
    "\n",
    "\n",
    "create_feature(mis_im)\n"
   ]
  },
  {
   "cell_type": "markdown",
   "metadata": {
    "collapsed": true
   },
   "source": [
    "##### (Optional) Create more features to help accurately label the traffic light images"
   ]
  },
  {
   "cell_type": "code",
   "execution_count": 189,
   "metadata": {
    "scrolled": true
   },
   "outputs": [
    {
     "data": {
      "text/plain": [
       "array([  0,   0,   0,   0,   0, 166,   0, 167, 173, 173, 149, 173, 163,\n",
       "       174, 172, 173, 174, 175,   0,   0,   0,   0,   0,   0,   0,   0,\n",
       "       169, 167,   0,   0,   0,   0], dtype=uint64)"
      ]
     },
     "execution_count": 189,
     "metadata": {},
     "output_type": "execute_result"
    }
   ],
   "source": [
    "# (Optional) Add more image analysis and create more features\n",
    "image_num = 7\n",
    "test_im = STANDARDIZED_LIST[image_num][0]\n",
    "test_label = STANDARDIZED_LIST[image_num][1]\n",
    "\n",
    "\n",
    "def masked_light(rgb_image):\n",
    "    #return a masked out bright light bulb from the image(when possible)\n",
    "    hsv = cv2.cvtColor(rgb_image,cv2.COLOR_RGB2HSV)\n",
    "    \n",
    "    #mask for v-component\n",
    "    lower_black = np.array([0,0,0]) \n",
    "    upper_black = np.array([255,255,135])\n",
    "    mask_h = cv2.inRange(hsv, lower_black, upper_black)\n",
    "    \n",
    "    #mask for saturation component\n",
    "    lower_sat = np.array([0,0,0]) \n",
    "    upper_sat = np.array([255,30,255])\n",
    "    mask_s = cv2.inRange(hsv, lower_sat, upper_sat)\n",
    "    #plt.imshow(mask_s,cmap='gray')\n",
    "    \n",
    "    # mask out\n",
    "    masked_hsv = np.copy(hsv)\n",
    "    masked_hsv[mask_h != 0] = [0,0,0]\n",
    "    masked_hsv[mask_s != 0] = [0,0,0]\n",
    "    #plt.imshow(cv2.cvtColor(masked_hsv,cv2.COLOR_HSV2RGB))\n",
    "    \n",
    "    return cv2.cvtColor(masked_hsv,cv2.COLOR_HSV2RGB)\n",
    "    \n",
    "    \n",
    "def color_feature(rgb_image):\n",
    "    #return a color feature that supply color information\n",
    "    hsv = cv2.cvtColor(rgb_image,cv2.COLOR_RGB2HSV)\n",
    "    \n",
    "    masked_img = masked_light(rgb_image)\n",
    "    masked_hsv = cv2.cvtColor(masked_img,cv2.COLOR_RGB2HSV)\n",
    "    hue = masked_hsv[:,:,0]\n",
    "    #plt.imshow(hue,cmap='gray')\n",
    "    \n",
    "    hue_row = np.sum(hue,axis=1)\n",
    "    #print(\"hue\",hue_row)\n",
    "    \n",
    "    #average hue value for each row, for non zero values only\n",
    "    for i in range(len(hue_row)):\n",
    "        non_zero=0.0\n",
    "        row = hue[i]\n",
    "        for j in row:\n",
    "            if j != 0:\n",
    "                non_zero += 1.0\n",
    "        if hue_row[i]!=0: #avoid dividing zero number\n",
    "            hue_row[i] = hue_row[i]/non_zero\n",
    "            \n",
    "    \n",
    "    return hue_row\n",
    "    \n",
    "#color_feature(test_im)\n",
    "color_feature(mis_im)"
   ]
  },
  {
   "cell_type": "code",
   "execution_count": 15,
   "metadata": {},
   "outputs": [
    {
     "data": {
      "image/png": "[encoded data removed]",
      "text/plain": [
       "<matplotlib.figure.Figure at 0x7fe53be0a908>"
      ]
     },
     "metadata": {},
     "output_type": "display_data"
    }
   ],
   "source": [
    "#(user created cell)\n",
    "#Displaying RGB channels\n",
    "# RGB channels\n",
    "r = test_im[:,:,0]\n",
    "g = test_im[:,:,1]\n",
    "b = test_im[:,:,2]\n",
    "\n",
    "# Plot the original image and the three channels\n",
    "f, (ax1, ax2, ax3, ax4) = plt.subplots(1, 4, figsize=(20,10))\n",
    "ax1.set_title('Standardized image')\n",
    "ax1.imshow(test_im)\n",
    "ax2.set_title('R channel')\n",
    "ax2.imshow(r, cmap='gray')\n",
    "ax3.set_title('G channel')\n",
    "ax3.imshow(g, cmap='gray')\n",
    "ax4.set_title('B channel')\n",
    "ax4.imshow(b, cmap='gray')\n",
    "\n",
    "\n"
   ]
  },
  {
   "cell_type": "code",
   "execution_count": 16,
   "metadata": {},
   "outputs": [],
   "source": [
    "#Testing hue values the hard way. I dont know the easy way\n"
   ]
  },
  {
   "cell_type": "markdown",
   "metadata": {},
   "source": [
    "## (QUESTION 1): How do the features you made help you distinguish between the 3 classes of traffic light images?"
   ]
  },
  {
   "cell_type": "markdown",
   "metadata": {},
   "source": [
    "**Answer:**The first feature sums up hsv brightness row wise to give us a clue of bright parts of the image. Second feature is used to extract color information for those bright parts."
   ]
  },
  {
   "cell_type": "markdown",
   "metadata": {
    "collapsed": true
   },
   "source": [
    "# 4. Classification and Visualizing Error\n",
    "\n",
    "Using all of your features, write a function that takes in an RGB image and, using your extracted features, outputs whether a light is red, green or yellow as a one-hot encoded label. This classification function should be able to classify any image of a traffic light!\n",
    "\n",
    "You are encouraged to write any helper functions or visualization code that you may need, but for testing the accuracy, make sure that this `estimate_label` function returns a one-hot encoded label."
   ]
  },
  {
   "cell_type": "markdown",
   "metadata": {},
   "source": [
    "---\n",
    "<a id='task8'></a>\n",
    "### (IMPLEMENTATION): Build a complete classifier "
   ]
  },
  {
   "cell_type": "code",
   "execution_count": 194,
   "metadata": {},
   "outputs": [
    {
     "data": {
      "text/plain": [
       "[0, 1, 0]"
      ]
     },
     "execution_count": 194,
     "metadata": {},
     "output_type": "execute_result"
    }
   ],
   "source": [
    "# This function should take in RGB image input\n",
    "# Analyze that image using your feature creation code and output a one-hot encoded label\n",
    "\n",
    "def estimate_label(rgb_image):\n",
    "    \n",
    "    ## TODO: Extract feature(s) from the RGB image and use those features to\n",
    "    ## classify the image and output a one-hot encoded label\n",
    "    brightness_feature = create_feature(rgb_image)\n",
    "    hue_feature = color_feature(rgb_image)\n",
    "    \n",
    "    #prediction by position of brightness feature\n",
    "    start = [0,0]\n",
    "    stop = 0\n",
    "    \n",
    "    prediction_0 = 'other'\n",
    "    for i in range(len(brightness_feature)):\n",
    "        if brightness_feature[i]!=0 and start[1]==0:\n",
    "            start[0]=i\n",
    "            start[1]=1\n",
    "            \n",
    "        if start[1]==1 and 1<(i-start[0])<3:\n",
    "            if brightness_feature[i]==0:\n",
    "                start[1]=0       \n",
    "        if brightness_feature[i]!=0:\n",
    "            stop = i\n",
    "            \n",
    "    if 0<start[0]<5 and 6<stop<=15:\n",
    "        prediction_0 = 'red'\n",
    "    elif 8<=start[0]<15 and 13<stop<27:\n",
    "        prediction_0 = 'yellow'\n",
    "    elif 15<start[0]<27 and 21<stop<=31:\n",
    "        prediction_0= 'green'\n",
    "    #print(start,stop)    \n",
    "        \n",
    "    prediction = prediction_0\n",
    "    \n",
    "    #prediction by hue values\n",
    "    hue_dominant = np.amax(hue_feature)\n",
    "    if 160<hue_dominant<180 or 0<hue_dominant<10:\n",
    "        prediction_1 = 'red'\n",
    "    elif 45<hue_dominant<90 or 105<hue_dominant<135:\n",
    "        prediction_1 ='green'\n",
    "    elif 23<hue_dominant<40:\n",
    "        prediction_1 = 'yellow'\n",
    "    else:\n",
    "        prediction_1 = 'red'\n",
    "        \n",
    "    if (prediction_0=='other'):\n",
    "        #print(\"cx\")\n",
    "        prediction = prediction_1\n",
    "    \n",
    "    predicted_label = one_hot_encode(prediction)\n",
    "    \n",
    "    return predicted_label\n",
    "\n",
    "estimate_label(mis_im)\n",
    "    "
   ]
  },
  {
   "cell_type": "markdown",
   "metadata": {},
   "source": [
    "## Testing the classifier\n",
    "\n",
    "Here is where we test your classification algorithm using our test set of data that we set aside at the beginning of the notebook! This project will be complete once you've pogrammed a \"good\" classifier.\n",
    "\n",
    "A \"good\" classifier in this case should meet the following criteria (and once it does, feel free to submit your project):\n",
    "1. Get above 90% classification accuracy.\n",
    "2. Never classify a red light as a green light. \n",
    "\n",
    "### Test dataset\n",
    "\n",
    "Below, we load in the test dataset, standardize it using the `standardize` function you defined above, and then **shuffle** it; this ensures that order will not play a role in testing accuracy.\n"
   ]
  },
  {
   "cell_type": "code",
   "execution_count": 18,
   "metadata": {},
   "outputs": [],
   "source": [
    "# Using the load_dataset function in helpers.py\n",
    "# Load test data\n",
    "TEST_IMAGE_LIST = helpers.load_dataset(IMAGE_DIR_TEST)\n",
    "\n",
    "# Standardize the test data\n",
    "STANDARDIZED_TEST_LIST = standardize(TEST_IMAGE_LIST)\n",
    "\n",
    "# Shuffle the standardized test data\n",
    "random.shuffle(STANDARDIZED_TEST_LIST)"
   ]
  },
  {
   "cell_type": "markdown",
   "metadata": {},
   "source": [
    "## Determine the Accuracy\n",
    "\n",
    "Compare the output of your classification algorithm (a.k.a. your \"model\") with the true labels and determine the accuracy.\n",
    "\n",
    "This code stores all the misclassified images, their predicted labels, and their true labels, in a list called `MISCLASSIFIED`. This code is used for testing and *should not be changed*."
   ]
  },
  {
   "cell_type": "code",
   "execution_count": 195,
   "metadata": {},
   "outputs": [
    {
     "name": "stdout",
     "output_type": "stream",
     "text": [
      "(32, 32)\n",
      "(32, 32)\n",
      "(32, 32)\n",
      "(32, 32)\n",
      "(32, 32)\n",
      "(32, 32)\n",
      "(32, 32)\n",
      "(32, 32)\n",
      "(32, 32)\n",
      "(32, 32)\n",
      "(32, 32)\n",
      "(32, 32)\n",
      "(32, 32)\n",
      "(32, 32)\n",
      "(32, 32)\n",
      "(32, 32)\n",
      "(32, 32)\n",
      "(32, 32)\n",
      "(32, 32)\n",
      "(32, 32)\n",
      "(32, 32)\n",
      "(32, 32)\n",
      "(32, 32)\n",
      "(32, 32)\n",
      "(32, 32)\n",
      "(32, 32)\n",
      "(32, 32)\n",
      "(32, 32)\n",
      "(32, 32)\n",
      "(32, 32)\n",
      "(32, 32)\n",
      "(32, 32)\n",
      "(32, 32)\n",
      "Accuracy: 0.9427609427609428\n",
      "Number of misclassified images = 17 out of 297\n"
     ]
    }
   ],
   "source": [
    "# Constructs a list of misclassified images given a list of test images and their labels\n",
    "# This will throw an AssertionError if labels are not standardized (one-hot encoded)\n",
    "\n",
    "def get_misclassified_images(test_images):\n",
    "    # Track misclassified images by placing them into a list\n",
    "    misclassified_images_labels = []\n",
    "\n",
    "    # Iterate through all the test images\n",
    "    # Classify each image and compare to the true label\n",
    "    for image in test_images:\n",
    "\n",
    "        # Get true data\n",
    "        im = image[0]\n",
    "        true_label = image[1]\n",
    "        assert(len(true_label) == 3), \"The true_label is not the expected length (3).\"\n",
    "\n",
    "        # Get predicted label from your classifier\n",
    "        predicted_label = estimate_label(im)\n",
    "        assert(len(predicted_label) == 3), \"The predicted_label is not the expected length (3).\"\n",
    "\n",
    "        # Compare true and predicted labels \n",
    "        if(predicted_label != true_label):\n",
    "            # If these labels are not equal, the image has been misclassified\n",
    "            misclassified_images_labels.append((im, predicted_label, true_label))\n",
    "            \n",
    "    # Return the list of misclassified [image, predicted_label, true_label] values\n",
    "    return misclassified_images_labels\n",
    "\n",
    "\n",
    "# Find all misclassified images in a given test set\n",
    "MISCLASSIFIED = get_misclassified_images(STANDARDIZED_TEST_LIST)\n",
    "\n",
    "# Accuracy calculations\n",
    "total = len(STANDARDIZED_TEST_LIST)\n",
    "num_correct = total - len(MISCLASSIFIED)\n",
    "accuracy = num_correct/total\n",
    "\n",
    "print('Accuracy: ' + str(accuracy))\n",
    "print(\"Number of misclassified images = \" + str(len(MISCLASSIFIED)) +' out of '+ str(total))\n"
   ]
  },
  {
   "cell_type": "markdown",
   "metadata": {},
   "source": [
    "---\n",
    "<a id='task9'></a>\n",
    "### Visualize the misclassified images\n",
    "\n",
    "Visualize some of the images you classified wrong (in the `MISCLASSIFIED` list) and note any qualities that make them difficult to classify. This will help you identify any weaknesses in your classification algorithm."
   ]
  },
  {
   "cell_type": "code",
   "execution_count": 192,
   "metadata": {},
   "outputs": [
    {
     "name": "stdout",
     "output_type": "stream",
     "text": [
      "Misclassified : 17\n",
      "Predicted Label :[0, 1, 0]\n",
      "True Label : [1, 0, 0]\n"
     ]
    },
    {
     "data": {
      "image/png": "[encoded data removed]",
      "text/plain": [
       "<matplotlib.figure.Figure at 0x7fe53aebcb70>"
      ]
     },
     "metadata": {},
     "output_type": "display_data"
    }
   ],
   "source": [
    "# Visualize misclassified example(s)\n",
    "## TODO: Display an image in the `MISCLASSIFIED` list\n",
    "index = 1\n",
    "length = len(MISCLASSIFIED)\n",
    "print(\"Misclassified : \"+str(length))\n",
    "\n",
    "mis_im=MISCLASSIFIED[index][0]\n",
    "plt.imshow(mis_im)\n",
    "\n",
    "## TODO: Print out its predicted label - to see what the image *was* incorrectly classified as\n",
    "print(\"Predicted Label :\"+str(MISCLASSIFIED[index][1]))\n",
    "print(\"True Label : \"+str(MISCLASSIFIED[index][2]))\n"
   ]
  },
  {
   "cell_type": "code",
   "execution_count": null,
   "metadata": {},
   "outputs": [],
   "source": []
  },
  {
   "cell_type": "markdown",
   "metadata": {},
   "source": [
    "---\n",
    "<a id='question2'></a>\n",
    "## (Question 2): After visualizing these misclassifications, what weaknesses do you think your classification algorithm has? Please note at least two."
   ]
  },
  {
   "cell_type": "markdown",
   "metadata": {},
   "source": [
    "**Answer:** Write your answer in this cell."
   ]
  },
  {
   "cell_type": "markdown",
   "metadata": {},
   "source": [
    "## Test if you classify any red lights as green\n",
    "\n",
    "**To pass this project, you must not classify any red lights as green!** Classifying red lights as green would cause a car to drive through a red traffic light, so this red-as-green error is very dangerous in the real world. \n",
    "\n",
    "The code below lets you test to see if you've misclassified any red lights as green in the test set. **This test assumes that `MISCLASSIFIED` is a list of tuples with the order: [misclassified_image, predicted_label, true_label].**\n",
    "\n",
    "Note: this is not an all encompassing test, but its a good indicator that, if you pass, you are on the right track! This iterates through your list of misclassified examples and checks to see if any red traffic lights have been mistakenly labelled [0, 1, 0] (green)."
   ]
  },
  {
   "cell_type": "code",
   "execution_count": 196,
   "metadata": {},
   "outputs": [
    {
     "data": {
      "text/markdown": [
       "**<span style=\"color: green;\">TEST PASSED</span>**"
      ],
      "text/plain": [
       "<IPython.core.display.Markdown object>"
      ]
     },
     "metadata": {},
     "output_type": "display_data"
    }
   ],
   "source": [
    "# Importing the tests\n",
    "import test_functions\n",
    "tests = test_functions.Tests()\n",
    "\n",
    "if(len(MISCLASSIFIED) > 0):\n",
    "    # Test code for one_hot_encode function\n",
    "    tests.test_red_as_green(MISCLASSIFIED)\n",
    "else:\n",
    "    print(\"MISCLASSIFIED may not have been populated with images.\")\n"
   ]
  },
  {
   "cell_type": "markdown",
   "metadata": {},
   "source": [
    "# 5. Improve your algorithm!\n",
    "\n",
    "**Submit your project after you have completed all implementations, answered all questions, AND when you've met the two criteria:**\n",
    "1. Greater than 90% accuracy classification\n",
    "2. No red lights classified as green\n",
    "\n",
    "If you did not meet these requirements (which is common on the first attempt!), revisit your algorithm and tweak it to improve light recognition -- this could mean changing the brightness feature, performing some background subtraction, or adding another feature!\n",
    "\n",
    "---"
   ]
  },
  {
   "cell_type": "markdown",
   "metadata": {
    "collapsed": true
   },
   "source": [
    "### Going Further (Optional Challenges)\n",
    "\n",
    "If you found this challenge easy, I suggest you go above and beyond! Here are a couple **optional** (meaning you do not need to implement these to submit and pass the project) suggestions:\n",
    "* (Optional) Aim for >95% classification accuracy.\n",
    "* (Optional) Some lights are in the shape of arrows; further classify the lights as round or arrow-shaped.\n",
    "* (Optional) Add another feature and aim for as close to 100% accuracy as you can get!"
   ]
  },
  {
   "cell_type": "code",
   "execution_count": null,
   "metadata": {
    "collapsed": true
   },
   "outputs": [],
   "source": []
  }
 ],
 "metadata": {
  "anaconda-cloud": {},
  "kernelspec": {
   "display_name": "Python 3",
   "language": "python",
   "name": "python3"
  },
  "language_info": {
   "codemirror_mode": {
    "name": "ipython",
    "version": 3
   },
   "file_extension": ".py",
   "mimetype": "text/x-python",
   "name": "python",
   "nbconvert_exporter": "python",
   "pygments_lexer": "ipython3",
   "version": "3.6.3"
  }
 },
 "nbformat": 4,
 "nbformat_minor": 2
}
